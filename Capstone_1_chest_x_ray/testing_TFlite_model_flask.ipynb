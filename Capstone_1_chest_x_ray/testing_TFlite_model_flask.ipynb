{
 "cells": [
  {
   "cell_type": "code",
   "execution_count": 1,
   "metadata": {},
   "outputs": [],
   "source": [
    "# Imports\n",
    "import numpy as np\n",
    "from PIL import Image\n",
    "\n",
    "import json\n",
    "import requests"
   ]
  },
  {
   "cell_type": "code",
   "execution_count": 2,
   "metadata": {},
   "outputs": [],
   "source": [
    "# Images fot testing\n",
    "url_list = ['./img_for_test/person6_bacteria_22.jpeg', \n",
    "       './img_for_test/person19_virus_50.jpeg',\n",
    "       './img_for_test/NORMAL2-IM-0030-0001.jpeg',\n",
    "       './img_for_test/NORMAL2-IM-0095-0001.jpeg']"
   ]
  },
  {
   "cell_type": "markdown",
   "metadata": {},
   "source": [
    "## Testing TF lite model remotely (using Flask)\n",
    "\n",
    "to run cells below you must:\n",
    "- first start `predict.py`\n",
    "OR\n",
    "- run Docker image created from `Dockerfile`"
   ]
  },
  {
   "cell_type": "code",
   "execution_count": 3,
   "metadata": {},
   "outputs": [],
   "source": [
    "url='http://127.0.0.1:9696/predict'"
   ]
  },
  {
   "cell_type": "code",
   "execution_count": 5,
   "metadata": {},
   "outputs": [
    {
     "name": "stdout",
     "output_type": "stream",
     "text": [
      "The prediction is: pneumonia\n",
      "The prediction is: pneumonia\n",
      "The prediction is: normal\n",
      "The prediction is: normal\n"
     ]
    }
   ],
   "source": [
    "for elem in url_list:\n",
    "    with Image.open(elem) as img:\n",
    "        img = img.convert(\"RGB\")\n",
    "        img = img.resize((224, 224), Image.NEAREST)\n",
    "    img = np.array(img).tolist()\n",
    "    reguest_data = json.dumps({'img': img})\n",
    "    response = requests.post(url, reguest_data)\n",
    "    print(response.text)"
   ]
  },
  {
   "cell_type": "code",
   "execution_count": null,
   "metadata": {},
   "outputs": [
    {
     "name": "stdout",
     "output_type": "stream",
     "text": [
      "The prediction is: pneumonia\n",
      "The prediction is: pneumonia\n",
      "The prediction is: normal\n",
      "The prediction is: normal\n"
     ]
    }
   ],
   "source": [
    "for elem in url_list:\n",
    "    with Image.open(elem) as img:\n",
    "        img = img.convert(\"RGB\")\n",
    "        img = img.resize((224, 224), Image.NEAREST)\n",
    "    img = np.array(img).tolist()\n",
    "    reguest_data = json.dumps({'img': img})\n",
    "    response = requests.post(url, reguest_data)\n",
    "    print(response.text)"
   ]
  }
 ],
 "metadata": {
  "kernelspec": {
   "display_name": "Python 3",
   "language": "python",
   "name": "python3"
  },
  "language_info": {
   "codemirror_mode": {
    "name": "ipython",
    "version": 3
   },
   "file_extension": ".py",
   "mimetype": "text/x-python",
   "name": "python",
   "nbconvert_exporter": "python",
   "pygments_lexer": "ipython3",
   "version": "3.9.18"
  }
 },
 "nbformat": 4,
 "nbformat_minor": 2
}
